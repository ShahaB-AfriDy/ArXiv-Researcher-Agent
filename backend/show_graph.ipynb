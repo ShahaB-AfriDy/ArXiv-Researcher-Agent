{
 "cells": [
  {
   "cell_type": "code",
   "execution_count": 15,
   "id": "8a5e6d44",
   "metadata": {},
   "outputs": [],
   "source": [
    "import asyncio\n",
    "from typing import TypedDict, Annotated\n",
    "from langgraph.graph import StateGraph, START, END, add_messages\n",
    "\n",
    "# -----------------------------\n",
    "# Define Dummy State\n",
    "# -----------------------------\n",
    "class DummyState(TypedDict):\n",
    "    messages: Annotated[list, add_messages]\n",
    "    query: str\n",
    "\n",
    "\n",
    "# -----------------------------\n",
    "# Define Dummy Nodes\n",
    "# -----------------------------\n",
    "async def start_node(state: DummyState):\n",
    "    \"\"\"Simulate starting node.\"\"\"\n",
    "    print(\"Entered start_node\")\n",
    "    query = state.get(\"query\", \"No query\")\n",
    "    print(f\"Received query: {query}\")\n",
    "    # Pass data to next node\n",
    "    return {\"messages\": [\"Start node processed\"], \"query\": query}\n",
    "\n",
    "\n",
    "async def middle_node(state: DummyState):\n",
    "    \"\"\"Simulate intermediate node.\"\"\"\n",
    "    print(\"Entered middle_node\")\n",
    "    query = state[\"query\"]\n",
    "    print(f\"Processing: {query}\")\n",
    "    # Append some dummy result\n",
    "    return {\"messages\": [\"Middle node processed\"], \"query\": query + \" (checked)\"}\n",
    "\n",
    "\n",
    "async def end_node(state: DummyState):\n",
    "    \"\"\"Simulate final node.\"\"\"\n",
    "    print(\"Entered end_node\")\n",
    "    query = state[\"query\"]\n",
    "    print(f\"Finalizing for query: {query}\")\n",
    "    return {\"messages\": [\"End node done\"], \"query\": query}\n",
    "\n",
    "\n",
    "# -----------------------------\n",
    "# Build Dummy Graph\n",
    "# -----------------------------\n",
    "graph = StateGraph(DummyState)\n",
    "graph.add_node(\"start_node\", start_node)\n",
    "graph.add_node(\"middle_node\", middle_node)\n",
    "graph.add_node(\"end_node\", end_node)\n",
    "\n",
    "# Connect nodes\n",
    "graph.add_edge(START, \"start_node\")\n",
    "graph.add_edge(\"start_node\", \"middle_node\")\n",
    "graph.add_edge(\"middle_node\", \"end_node\")\n",
    "graph.add_edge(\"end_node\", END)\n",
    "\n",
    "# Compile graph\n",
    "dummy_graph = graph.compile()"
   ]
  },
  {
   "cell_type": "code",
   "execution_count": null,
   "id": "6b983ea8",
   "metadata": {},
   "outputs": [],
   "source": [
    "dummy_graph"
   ]
  }
 ],
 "metadata": {
  "kernelspec": {
   "display_name": "Global2 (Python 3.12.5)",
   "language": "python",
   "name": "global2"
  },
  "language_info": {
   "codemirror_mode": {
    "name": "ipython",
    "version": 3
   },
   "file_extension": ".py",
   "mimetype": "text/x-python",
   "name": "python",
   "nbconvert_exporter": "python",
   "pygments_lexer": "ipython3",
   "version": "3.13.8"
  }
 },
 "nbformat": 4,
 "nbformat_minor": 5
}
